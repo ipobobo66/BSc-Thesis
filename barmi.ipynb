{
 "cells": [
  {
   "cell_type": "code",
   "execution_count": 2,
   "metadata": {},
   "outputs": [],
   "source": [
    "import numpy as np\n",
    "from numpy import random"
   ]
  },
  {
   "cell_type": "code",
   "execution_count": 3,
   "metadata": {},
   "outputs": [
    {
     "name": "stdout",
     "output_type": "stream",
     "text": [
      "Done\n"
     ]
    }
   ],
   "source": [
    "mu = 5\n",
    "sigma = 1\n",
    "\n",
    "s = np.random.normal(mu, sigma, 9)\n",
    "\n",
    "s = s/sum(s)\n",
    "\n",
    "#s = sorted(s, reverse = True)\n",
    "\n",
    "s = [str(value) for value in s]\n",
    "#convert list to CSV string\n",
    "\n",
    "s = ['0.0','0.0','0.0','0.0','0.0','0.0','0.0','0.0','0.0','0.0', ] + s\n",
    "\n",
    "with open(r'C:/Users/ipobo/Documents/SZAKDOLGOZAT/utils/q.txt', 'w') as file:\n",
    "    file.write(\", \".join(s))\n",
    "    print('Done')"
   ]
  },
  {
   "cell_type": "code",
   "execution_count": 4,
   "metadata": {},
   "outputs": [
    {
     "data": {
      "text/plain": [
       "['0.0',\n",
       " '0.0',\n",
       " '0.0',\n",
       " '0.0',\n",
       " '0.0',\n",
       " '0.0',\n",
       " '0.0',\n",
       " '0.0',\n",
       " '0.0',\n",
       " '0.0',\n",
       " '0.13272764054308234',\n",
       " '0.10533373995553433',\n",
       " '0.10420307890729427',\n",
       " '0.11259964705347913',\n",
       " '0.10092624518136452',\n",
       " '0.09822367684219782',\n",
       " '0.12439280860661667',\n",
       " '0.1396578713373031',\n",
       " '0.08193529157312777']"
      ]
     },
     "execution_count": 4,
     "metadata": {},
     "output_type": "execute_result"
    }
   ],
   "source": [
    "s"
   ]
  },
  {
   "cell_type": "code",
   "execution_count": null,
   "metadata": {},
   "outputs": [],
   "source": []
  },
  {
   "cell_type": "code",
   "execution_count": null,
   "metadata": {},
   "outputs": [],
   "source": []
  }
 ],
 "metadata": {
  "kernelspec": {
   "display_name": "Python 3",
   "language": "python",
   "name": "python3"
  },
  "language_info": {
   "codemirror_mode": {
    "name": "ipython",
    "version": 3
   },
   "file_extension": ".py",
   "mimetype": "text/x-python",
   "name": "python",
   "nbconvert_exporter": "python",
   "pygments_lexer": "ipython3",
   "version": "3.9.13"
  },
  "orig_nbformat": 4
 },
 "nbformat": 4,
 "nbformat_minor": 2
}
