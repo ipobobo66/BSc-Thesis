{
 "cells": [
  {
   "cell_type": "code",
   "execution_count": 1,
   "metadata": {},
   "outputs": [],
   "source": [
    "import numpy as np\n",
    "from numpy import random\n",
    "import scipy \n",
    "from scipy import stats\n"
   ]
  },
  {
   "cell_type": "code",
   "execution_count": 2,
   "metadata": {},
   "outputs": [],
   "source": [
    "x1000 = np.linspace(-1,1,9)\n",
    "x50 = np.linspace(-1,1,4)\n",
    "x1000decr = np.linspace(5,2,8)\n"
   ]
  },
  {
   "cell_type": "code",
   "execution_count": 3,
   "metadata": {},
   "outputs": [
    {
     "data": {
      "text/plain": [
       "[0.0,\n",
       " 0.17857142857142858,\n",
       " 0.16326530612244897,\n",
       " 0.1479591836734694,\n",
       " 0.1326530612244898,\n",
       " 0.1173469387755102,\n",
       " 0.10204081632653061,\n",
       " 0.08673469387755103,\n",
       " 0.07142857142857142]"
      ]
     },
     "execution_count": 3,
     "metadata": {},
     "output_type": "execute_result"
    }
   ],
   "source": [
    "y = []\n",
    "y2 = []\n",
    "y3 = []\n",
    "\n",
    "for i in range(0, len(x1000)):\n",
    "    y.append(stats.norm.pdf(x1000[i]))\n",
    "    \n",
    "for i in range(0, len(x1000decr)):\n",
    "    y3.append(x1000decr[i]/sum(x1000decr))\n",
    "    \n",
    "for l in range(0, len(x50)):\n",
    "    y2.append(stats.norm.pdf(x50[l]))\n",
    "\n",
    "y = [0.0, ] + y\n",
    "y2 = [0.0, ] + y2\n",
    "y3 = [0.0, ] + y3\n",
    "\n",
    "y3"
   ]
  },
  {
   "cell_type": "code",
   "execution_count": 4,
   "metadata": {},
   "outputs": [
    {
     "data": {
      "text/plain": [
       "array([0.        , 0.08167442, 0.10164546, 0.11883558, 0.13051536,\n",
       "       0.13465836, 0.13051536, 0.11883558, 0.10164546, 0.08167442])"
      ]
     },
     "execution_count": 4,
     "metadata": {},
     "output_type": "execute_result"
    }
   ],
   "source": [
    "y = y/sum(y)\n",
    "y2 = y2/sum(y2)\n",
    "y3 = y3/sum(y3)\n",
    "\n",
    "y"
   ]
  },
  {
   "cell_type": "code",
   "execution_count": 5,
   "metadata": {},
   "outputs": [
    {
     "name": "stdout",
     "output_type": "stream",
     "text": [
      "Done\n",
      "Done\n",
      "Done\n"
     ]
    }
   ],
   "source": [
    "with open(r'./q_norm.txt', 'w') as file:\n",
    "    for d in y:\n",
    "        file.write(f\"{d}, \")\n",
    "    print('Done')\n",
    "    \n",
    "with open(r'./q_norm_50.txt', 'w') as file:\n",
    "    for d in y2:\n",
    "        file.write(f\"{d}, \")\n",
    "    print('Done')\n",
    "    \n",
    "with open(r'./q_decr.txt', 'w') as file:\n",
    "    for d in y3:\n",
    "        file.write(f\"{d}, \")\n",
    "    print('Done')"
   ]
  },
  {
   "cell_type": "code",
   "execution_count": 6,
   "metadata": {},
   "outputs": [
    {
     "ename": "NameError",
     "evalue": "name 'K' is not defined",
     "output_type": "error",
     "traceback": [
      "\u001b[1;31m---------------------------------------------------------------------------\u001b[0m",
      "\u001b[1;31mNameError\u001b[0m                                 Traceback (most recent call last)",
      "Cell \u001b[1;32mIn[6], line 1\u001b[0m\n\u001b[1;32m----> 1\u001b[0m \u001b[39mwith\u001b[39;00m \u001b[39mopen\u001b[39m(\u001b[39mr\u001b[39m\u001b[39m'\u001b[39m\u001b[39mC:/Users/ipobo/Documents/SZAKDOLGOZAT/utils/final_plots_norm/suss/sus5_\u001b[39m\u001b[39m%s\u001b[39;00m\u001b[39m.txt\u001b[39m\u001b[39m'\u001b[39m \u001b[39m%\u001b[39m K, \u001b[39m'\u001b[39m\u001b[39mw\u001b[39m\u001b[39m'\u001b[39m) \u001b[39mas\u001b[39;00m file:\n\u001b[0;32m      2\u001b[0m     \u001b[39mfor\u001b[39;00m d \u001b[39min\u001b[39;00m susceptibility5:\n\u001b[0;32m      3\u001b[0m         file\u001b[39m.\u001b[39mwrite(\u001b[39mf\u001b[39m\u001b[39m\"\u001b[39m\u001b[39m{\u001b[39;00md\u001b[39m}\u001b[39;00m\u001b[39m\\n\u001b[39;00m\u001b[39m\"\u001b[39m)\n",
      "\u001b[1;31mNameError\u001b[0m: name 'K' is not defined"
     ]
    }
   ],
   "source": [
    "with open(r'C:/Users/ipobo/Documents/SZAKDOLGOZAT/utils/final_plots_norm/suss/sus5_%s.txt' % K, 'w') as file:\n",
    "    for d in susceptibility5:\n",
    "        file.write(f\"{d}\\n\")"
   ]
  },
  {
   "cell_type": "code",
   "execution_count": null,
   "metadata": {},
   "outputs": [],
   "source": [
    "clique_groups['w_%s' % weightlist[l]][j] = [0 + max(groups_k['w_%s' % weightlist[l]])]"
   ]
  }
 ],
 "metadata": {
  "kernelspec": {
   "display_name": "Python 3",
   "language": "python",
   "name": "python3"
  },
  "language_info": {
   "codemirror_mode": {
    "name": "ipython",
    "version": 3
   },
   "file_extension": ".py",
   "mimetype": "text/x-python",
   "name": "python",
   "nbconvert_exporter": "python",
   "pygments_lexer": "ipython3",
   "version": "3.9.13"
  },
  "orig_nbformat": 4
 },
 "nbformat": 4,
 "nbformat_minor": 2
}
