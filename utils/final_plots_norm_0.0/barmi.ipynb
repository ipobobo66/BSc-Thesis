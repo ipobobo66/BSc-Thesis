{
 "cells": [
  {
   "cell_type": "code",
   "execution_count": 10,
   "metadata": {},
   "outputs": [],
   "source": [
    "import numpy as np\n",
    "from numpy import random\n",
    "import scipy \n",
    "from scipy import stats\n"
   ]
  },
  {
   "cell_type": "code",
   "execution_count": 8,
   "metadata": {},
   "outputs": [
    {
     "name": "stdout",
     "output_type": "stream",
     "text": [
      "Done\n"
     ]
    }
   ],
   "source": [
    "mu = 5\n",
    "sigma = 2.5\n",
    "\n",
    "s = np.random.normal(mu, sigma, 9)\n",
    "\n",
    "s = s/sum(s)\n",
    "\n",
    "#s = sorted(s, reverse = True)\n",
    "\n",
    "s = [str(value) for value in s]\n",
    "#convert list to CSV string\n",
    "\n",
    "s = ['0.0', ] + s\n",
    "\n",
    "with open(r'C:/Users/ipobo/Documents/SZAKDOLGOZAT/utils/q.txt', 'w') as file:\n",
    "    file.write(\", \".join(s))\n",
    "    print('Done')"
   ]
  },
  {
   "cell_type": "code",
   "execution_count": 14,
   "metadata": {},
   "outputs": [
    {
     "data": {
      "text/plain": [
       "array([-1.  , -0.75, -0.5 , -0.25,  0.  ,  0.25,  0.5 ,  0.75,  1.  ])"
      ]
     },
     "execution_count": 14,
     "metadata": {},
     "output_type": "execute_result"
    }
   ],
   "source": [
    "x = np.linspace(-1,1,9)\n",
    "x"
   ]
  },
  {
   "cell_type": "code",
   "execution_count": 20,
   "metadata": {},
   "outputs": [
    {
     "data": {
      "text/plain": [
       "[0.24197072451914337,\n",
       " 0.30113743215480443,\n",
       " 0.3520653267642995,\n",
       " 0.3866681168028493,\n",
       " 0.3989422804014327,\n",
       " 0.3866681168028493,\n",
       " 0.3520653267642995,\n",
       " 0.30113743215480443,\n",
       " 0.24197072451914337]"
      ]
     },
     "execution_count": 20,
     "metadata": {},
     "output_type": "execute_result"
    }
   ],
   "source": [
    "y = []\n",
    "\n",
    "for i in range(0, len(x)):\n",
    "    y.append(stats.norm.pdf(x[i]))\n",
    "\n",
    "y"
   ]
  },
  {
   "cell_type": "code",
   "execution_count": 19,
   "metadata": {},
   "outputs": [
    {
     "data": {
      "text/plain": [
       "array([0.08167442, 0.10164546, 0.11883558, 0.13051536, 0.13465836,\n",
       "       0.13051536, 0.11883558, 0.10164546, 0.08167442])"
      ]
     },
     "execution_count": 19,
     "metadata": {},
     "output_type": "execute_result"
    }
   ],
   "source": [
    "y = y/sum(y)\n",
    "y"
   ]
  },
  {
   "cell_type": "code",
   "execution_count": 9,
   "metadata": {},
   "outputs": [
    {
     "data": {
      "text/plain": [
       "['0.0',\n",
       " '0.18577630507906503',\n",
       " '0.06358893823302157',\n",
       " '0.20053972252799496',\n",
       " '0.09626231461376336',\n",
       " '0.13303569402395657',\n",
       " '0.03251329189133131',\n",
       " '0.13984990437546127',\n",
       " '0.12730093159705796',\n",
       " '0.021132897658348058']"
      ]
     },
     "execution_count": 9,
     "metadata": {},
     "output_type": "execute_result"
    }
   ],
   "source": [
    "s"
   ]
  },
  {
   "cell_type": "code",
   "execution_count": null,
   "metadata": {},
   "outputs": [],
   "source": []
  },
  {
   "cell_type": "code",
   "execution_count": null,
   "metadata": {},
   "outputs": [],
   "source": []
  }
 ],
 "metadata": {
  "kernelspec": {
   "display_name": "Python 3",
   "language": "python",
   "name": "python3"
  },
  "language_info": {
   "codemirror_mode": {
    "name": "ipython",
    "version": 3
   },
   "file_extension": ".py",
   "mimetype": "text/x-python",
   "name": "python",
   "nbconvert_exporter": "python",
   "pygments_lexer": "ipython3",
   "version": "3.9.13"
  },
  "orig_nbformat": 4
 },
 "nbformat": 4,
 "nbformat_minor": 2
}
