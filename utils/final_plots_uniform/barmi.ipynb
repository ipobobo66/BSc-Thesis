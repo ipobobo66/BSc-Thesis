{
 "cells": [
  {
   "cell_type": "code",
   "execution_count": 2,
   "metadata": {},
   "outputs": [],
   "source": [
    "import numpy as np\n",
    "from numpy import random\n",
    "import scipy \n",
    "from scipy import stats\n"
   ]
  },
  {
   "cell_type": "code",
   "execution_count": 4,
   "metadata": {},
   "outputs": [],
   "source": [
    "x1000 = np.linspace(-1,1,9)\n",
    "x50 = np.linspace(-1,1,5)\n"
   ]
  },
  {
   "cell_type": "code",
   "execution_count": 7,
   "metadata": {},
   "outputs": [
    {
     "data": {
      "text/plain": [
       "[0.0,\n",
       " 0.24197072451914337,\n",
       " 0.30113743215480443,\n",
       " 0.3520653267642995,\n",
       " 0.3866681168028493,\n",
       " 0.3989422804014327,\n",
       " 0.3866681168028493,\n",
       " 0.3520653267642995,\n",
       " 0.30113743215480443,\n",
       " 0.24197072451914337]"
      ]
     },
     "execution_count": 7,
     "metadata": {},
     "output_type": "execute_result"
    }
   ],
   "source": [
    "y = []\n",
    "y2 = []\n",
    "\n",
    "for i in range(0, len(x1000)):\n",
    "    y.append(stats.norm.pdf(x1000[i]))\n",
    "    \n",
    "for l in range(0, len(x50)):\n",
    "    y2.append(stats.norm.pdf(x50[l]))\n",
    "\n",
    "y = [0.0, ] + y\n",
    "y2 = [0.0, ] + y2\n",
    "\n",
    "y"
   ]
  },
  {
   "cell_type": "code",
   "execution_count": 8,
   "metadata": {},
   "outputs": [
    {
     "data": {
      "text/plain": [
       "array([0.        , 0.08167442, 0.10164546, 0.11883558, 0.13051536,\n",
       "       0.13465836, 0.13051536, 0.11883558, 0.10164546, 0.08167442])"
      ]
     },
     "execution_count": 8,
     "metadata": {},
     "output_type": "execute_result"
    }
   ],
   "source": [
    "y = y/sum(y)\n",
    "y2 = y2/sum(y2)\n",
    "\n",
    "y"
   ]
  },
  {
   "cell_type": "code",
   "execution_count": 10,
   "metadata": {},
   "outputs": [
    {
     "name": "stdout",
     "output_type": "stream",
     "text": [
      "Done\n",
      "Done\n"
     ]
    }
   ],
   "source": [
    "with open(r'./q_norm.txt', 'w') as file:\n",
    "    for d in y:\n",
    "        file.write(f\"{d}, \")\n",
    "    print('Done')\n",
    "    \n",
    "with open(r'./q_norm_50.txt', 'w') as file:\n",
    "    for d in y2:\n",
    "        file.write(f\"{d}, \")\n",
    "    print('Done')"
   ]
  },
  {
   "cell_type": "code",
   "execution_count": null,
   "metadata": {},
   "outputs": [],
   "source": [
    "with open(r'C:/Users/ipobo/Documents/SZAKDOLGOZAT/utils/final_plots_norm/suss/sus5_%s.txt' % K, 'w') as file:\n",
    "    for d in susceptibility5:\n",
    "        file.write(f\"{d}\\n\")"
   ]
  },
  {
   "cell_type": "code",
   "execution_count": null,
   "metadata": {},
   "outputs": [],
   "source": []
  }
 ],
 "metadata": {
  "kernelspec": {
   "display_name": "Python 3",
   "language": "python",
   "name": "python3"
  },
  "language_info": {
   "codemirror_mode": {
    "name": "ipython",
    "version": 3
   },
   "file_extension": ".py",
   "mimetype": "text/x-python",
   "name": "python",
   "nbconvert_exporter": "python",
   "pygments_lexer": "ipython3",
   "version": "3.9.13"
  },
  "orig_nbformat": 4
 },
 "nbformat": 4,
 "nbformat_minor": 2
}
