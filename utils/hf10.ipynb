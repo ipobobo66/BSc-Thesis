{
 "cells": [
  {
   "cell_type": "code",
   "execution_count": 1,
   "metadata": {},
   "outputs": [
    {
     "name": "stdout",
     "output_type": "stream",
     "text": [
      "%pylab is deprecated, use %matplotlib inline and import the required libraries.\n",
      "Populating the interactive namespace from numpy and matplotlib\n"
     ]
    }
   ],
   "source": [
    "%pylab inline"
   ]
  },
  {
   "cell_type": "code",
   "execution_count": 26,
   "metadata": {},
   "outputs": [],
   "source": [
    "import numpy as np\n",
    "import math\n",
    "import random"
   ]
  },
  {
   "cell_type": "code",
   "execution_count": 27,
   "metadata": {},
   "outputs": [],
   "source": [
    "x = np.linspace(0,10,1000)\n",
    "\n",
    "a = 1\n",
    "b = 0\n",
    "q = 1\n",
    "\n",
    "kbT1 = 2\n",
    "D1 = 2\n",
    "mu1 = 1\n",
    "\n",
    "kbT2 = 0.8\n",
    "D2 = 1.6\n",
    "mu2 = 2\n",
    "\n",
    "eps = (1, 0.1, 0.01, 0.001, 0.0001, 0.00001)\n",
    "\n",
    "y = {}    #np.zeros([len(eps)])\n",
    "\n",
    "for i in range(0, len(eps)):\n",
    "    y[i] = []\n",
    "    eta = random.gauss(0, D1*eps[i])\n",
    "    #y[i] = []\n",
    "    y[i].append((1/((4*D1*eps[i]*math.pi)**(1/2)))*math.e**((eta**2)/(4*D1*eps[i])))"
   ]
  },
  {
   "cell_type": "code",
   "execution_count": 30,
   "metadata": {},
   "outputs": [
    {
     "ename": "TypeError",
     "evalue": "can't multiply sequence by non-int of type 'float'",
     "output_type": "error",
     "traceback": [
      "\u001b[1;31m---------------------------------------------------------------------------\u001b[0m",
      "\u001b[1;31mTypeError\u001b[0m                                 Traceback (most recent call last)",
      "Cell \u001b[1;32mIn[30], line 1\u001b[0m\n\u001b[1;32m----> 1\u001b[0m z \u001b[39m=\u001b[39m ((\u001b[39m1\u001b[39m\u001b[39m/\u001b[39m((\u001b[39m4\u001b[39;49m\u001b[39m*\u001b[39;49mD1\u001b[39m*\u001b[39;49meps\u001b[39m*\u001b[39;49mmath\u001b[39m.\u001b[39;49mpi)\u001b[39m*\u001b[39m\u001b[39m*\u001b[39m(\u001b[39m1\u001b[39m\u001b[39m/\u001b[39m\u001b[39m2\u001b[39m)))\u001b[39m*\u001b[39mmath\u001b[39m.\u001b[39me\u001b[39m*\u001b[39m\u001b[39m*\u001b[39m((eta\u001b[39m*\u001b[39m\u001b[39m*\u001b[39m\u001b[39m2\u001b[39m)\u001b[39m/\u001b[39m(\u001b[39m4\u001b[39m\u001b[39m*\u001b[39mD1\u001b[39m*\u001b[39meps)))\n",
      "\u001b[1;31mTypeError\u001b[0m: can't multiply sequence by non-int of type 'float'"
     ]
    }
   ],
   "source": [
    "z = ((1/((4*D1*eps*math.pi)**(1/2)))*math.e**((eta**2)/(4*D1*eps)))"
   ]
  },
  {
   "cell_type": "code",
   "execution_count": 29,
   "metadata": {},
   "outputs": [
    {
     "data": {
      "text/plain": [
       "[1.997869361454372]"
      ]
     },
     "execution_count": 29,
     "metadata": {},
     "output_type": "execute_result"
    }
   ],
   "source": [
    "y[2]"
   ]
  },
  {
   "cell_type": "code",
   "execution_count": 28,
   "metadata": {},
   "outputs": [
    {
     "data": {
      "text/plain": [
       "(array([0., 0., 0., 0., 0., 1., 0., 0., 0., 0.]),\n",
       " array([0.16909602, 0.26909602, 0.36909602, 0.46909602, 0.56909602,\n",
       "        0.66909602, 0.76909602, 0.86909602, 0.96909602, 1.06909602,\n",
       "        1.16909602]),\n",
       " <BarContainer object of 10 artists>)"
      ]
     },
     "execution_count": 28,
     "metadata": {},
     "output_type": "execute_result"
    },
    {
     "data": {
      "image/png": "[encoded data removed]",
      "text/plain": [
       "<Figure size 640x480 with 1 Axes>"
      ]
     },
     "metadata": {},
     "output_type": "display_data"
    }
   ],
   "source": [
    "plt.hist(y[1])"
   ]
  },
  {
   "cell_type": "code",
   "execution_count": null,
   "metadata": {},
   "outputs": [],
   "source": []
  }
 ],
 "metadata": {
  "kernelspec": {
   "display_name": "Python 3",
   "language": "python",
   "name": "python3"
  },
  "language_info": {
   "codemirror_mode": {
    "name": "ipython",
    "version": 3
   },
   "file_extension": ".py",
   "mimetype": "text/x-python",
   "name": "python",
   "nbconvert_exporter": "python",
   "pygments_lexer": "ipython3",
   "version": "3.9.13"
  },
  "orig_nbformat": 4
 },
 "nbformat": 4,
 "nbformat_minor": 2
}
