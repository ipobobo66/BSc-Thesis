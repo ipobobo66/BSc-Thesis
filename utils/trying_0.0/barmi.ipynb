{
 "cells": [
  {
   "cell_type": "code",
   "execution_count": 46,
   "metadata": {},
   "outputs": [],
   "source": [
    "import numpy as np\n",
    "from numpy import random\n",
    "import scipy \n",
    "from scipy import stats\n"
   ]
  },
  {
   "cell_type": "code",
   "execution_count": 47,
   "metadata": {},
   "outputs": [
    {
     "data": {
      "text/plain": [
       "array([-1.  , -0.75, -0.5 , -0.25,  0.  ,  0.25,  0.5 ,  0.75,  1.  ])"
      ]
     },
     "execution_count": 47,
     "metadata": {},
     "output_type": "execute_result"
    }
   ],
   "source": [
    "x = np.linspace(-1,1,9)\n",
    "x"
   ]
  },
  {
   "cell_type": "code",
   "execution_count": 54,
   "metadata": {},
   "outputs": [
    {
     "data": {
      "text/plain": [
       "[0.0,\n",
       " 0.24197072451914337,\n",
       " 0.30113743215480443,\n",
       " 0.3520653267642995,\n",
       " 0.3866681168028493,\n",
       " 0.3989422804014327,\n",
       " 0.3866681168028493,\n",
       " 0.3520653267642995,\n",
       " 0.30113743215480443,\n",
       " 0.24197072451914337]"
      ]
     },
     "execution_count": 54,
     "metadata": {},
     "output_type": "execute_result"
    }
   ],
   "source": [
    "y = []\n",
    "z = np.zeros(10)\n",
    "\n",
    "for i in range(0, len(x)):\n",
    "    y.append(stats.norm.pdf(x[i]))\n",
    "    z[i] = 1/9\n",
    "\n",
    "y = [0.0, ] + y\n",
    "z = sorted(z)\n",
    "\n",
    "y"
   ]
  },
  {
   "cell_type": "code",
   "execution_count": 55,
   "metadata": {},
   "outputs": [
    {
     "data": {
      "text/plain": [
       "[0.0,\n",
       " 0.1111111111111111,\n",
       " 0.1111111111111111,\n",
       " 0.1111111111111111,\n",
       " 0.1111111111111111,\n",
       " 0.1111111111111111,\n",
       " 0.1111111111111111,\n",
       " 0.1111111111111111,\n",
       " 0.1111111111111111,\n",
       " 0.1111111111111111]"
      ]
     },
     "execution_count": 55,
     "metadata": {},
     "output_type": "execute_result"
    }
   ],
   "source": [
    "z"
   ]
  },
  {
   "cell_type": "code",
   "execution_count": 56,
   "metadata": {},
   "outputs": [
    {
     "data": {
      "text/plain": [
       "array([0.        , 0.08167442, 0.10164546, 0.11883558, 0.13051536,\n",
       "       0.13465836, 0.13051536, 0.11883558, 0.10164546, 0.08167442])"
      ]
     },
     "execution_count": 56,
     "metadata": {},
     "output_type": "execute_result"
    }
   ],
   "source": [
    "y = y/sum(y)\n",
    "\n",
    "y"
   ]
  },
  {
   "cell_type": "code",
   "execution_count": 57,
   "metadata": {},
   "outputs": [
    {
     "name": "stdout",
     "output_type": "stream",
     "text": [
      "Done\n"
     ]
    }
   ],
   "source": [
    "with open(r'C:/Users/ipobo/Documents/SZAKDOLGOZAT/utils/q_norm.txt', 'w') as file:\n",
    "    for d in y:\n",
    "        file.write(f\"{d}, \")\n",
    "    print('Done')"
   ]
  },
  {
   "cell_type": "code",
   "execution_count": 58,
   "metadata": {},
   "outputs": [
    {
     "name": "stdout",
     "output_type": "stream",
     "text": [
      "Done\n"
     ]
    }
   ],
   "source": [
    "with open(r'C:/Users/ipobo/Documents/SZAKDOLGOZAT/utils/q_uniform.txt', 'w') as file:\n",
    "    for d in z:\n",
    "        file.write(f\"{d}, \")\n",
    "    print('Done')"
   ]
  },
  {
   "cell_type": "code",
   "execution_count": 59,
   "metadata": {},
   "outputs": [
    {
     "data": {
      "text/plain": [
       "[0.0,\n",
       " 0.02,\n",
       " 0.04,\n",
       " 0.06,\n",
       " 0.08,\n",
       " 0.1,\n",
       " 0.12,\n",
       " 0.14,\n",
       " 0.16,\n",
       " 0.18,\n",
       " 0.2,\n",
       " 0.22,\n",
       " 0.24,\n",
       " 0.26,\n",
       " 0.28,\n",
       " 0.3,\n",
       " 0.32,\n",
       " 0.34,\n",
       " 0.36,\n",
       " 0.38,\n",
       " 0.4,\n",
       " 0.42,\n",
       " 0.44,\n",
       " 0.46,\n",
       " 0.48,\n",
       " 0.5,\n",
       " 0.52,\n",
       " 0.54,\n",
       " 0.56,\n",
       " 0.58,\n",
       " 0.6,\n",
       " 0.62,\n",
       " 0.64,\n",
       " 0.66,\n",
       " 0.68,\n",
       " 0.7000000000000001,\n",
       " 0.72,\n",
       " 0.74,\n",
       " 0.76,\n",
       " 0.78,\n",
       " 0.8,\n",
       " 0.8200000000000001,\n",
       " 0.84,\n",
       " 0.86,\n",
       " 0.88,\n",
       " 0.9,\n",
       " 0.92,\n",
       " 0.9400000000000001,\n",
       " 0.96,\n",
       " 0.98,\n",
       " 1.0,\n",
       " 1.02,\n",
       " 1.04,\n",
       " 1.06,\n",
       " 1.08,\n",
       " 1.1,\n",
       " 1.12,\n",
       " 1.1400000000000001,\n",
       " 1.16,\n",
       " 1.18,\n",
       " 1.2,\n",
       " 1.22,\n",
       " 1.24,\n",
       " 1.26,\n",
       " 1.28,\n",
       " 1.3,\n",
       " 1.32,\n",
       " 1.34,\n",
       " 1.36,\n",
       " 1.3800000000000001,\n",
       " 1.4000000000000001,\n",
       " 1.42,\n",
       " 1.44,\n",
       " 1.46,\n",
       " 1.48,\n",
       " 1.5,\n",
       " 1.52,\n",
       " 1.54,\n",
       " 1.56,\n",
       " 1.58,\n",
       " 1.6,\n",
       " 1.62,\n",
       " 1.6400000000000001,\n",
       " 1.6600000000000001,\n",
       " 1.68,\n",
       " 1.7,\n",
       " 1.72,\n",
       " 1.74,\n",
       " 1.76,\n",
       " 1.78,\n",
       " 1.8,\n",
       " 1.82,\n",
       " 1.84,\n",
       " 1.86,\n",
       " 1.8800000000000001,\n",
       " 1.9000000000000001,\n",
       " 1.92,\n",
       " 1.94,\n",
       " 1.96,\n",
       " 1.98,\n",
       " 2.0]"
      ]
     },
     "execution_count": 59,
     "metadata": {},
     "output_type": "execute_result"
    }
   ],
   "source": [
    "sorted(list(set(np.array(np.linspace(0, 2, 101)))))"
   ]
  },
  {
   "cell_type": "code",
   "execution_count": null,
   "metadata": {},
   "outputs": [],
   "source": []
  }
 ],
 "metadata": {
  "kernelspec": {
   "display_name": "Python 3",
   "language": "python",
   "name": "python3"
  },
  "language_info": {
   "codemirror_mode": {
    "name": "ipython",
    "version": 3
   },
   "file_extension": ".py",
   "mimetype": "text/x-python",
   "name": "python",
   "nbconvert_exporter": "python",
   "pygments_lexer": "ipython3",
   "version": "3.9.13"
  },
  "orig_nbformat": 4
 },
 "nbformat": 4,
 "nbformat_minor": 2
}
